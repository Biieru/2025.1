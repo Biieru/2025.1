{
 "cells": [
  {
   "cell_type": "markdown",
   "metadata": {},
   "source": [
    "# Aula 2 - Data Science"
   ]
  },
  {
   "cell_type": "code",
   "execution_count": 1,
   "metadata": {},
   "outputs": [],
   "source": [
    "import pandas as pd\n",
    "url = \"https://drive.google.com/uc?id=1Jgto7psHaMRTAVzcFt7D6SgJiHMB7uGT\"\n",
    "df = pd.read_csv(url)"
   ]
  },
  {
   "cell_type": "markdown",
   "metadata": {},
   "source": [
    "# Orçamento Total de Todas Escolas"
   ]
  },
  {
   "cell_type": "code",
   "execution_count": 2,
   "metadata": {},
   "outputs": [
    {
     "name": "stdout",
     "output_type": "stream",
     "text": [
      "Orçamento total: 24649428\n"
     ]
    }
   ],
   "source": [
    "orcamento_total = df[\"Orcamento_Anual\"].sum()\n",
    "print(\"Orçamento total:\", orcamento_total)"
   ]
  },
  {
   "cell_type": "markdown",
   "metadata": {},
   "source": [
    "# Escola com o maior e o menor gasto per capita"
   ]
  },
  {
   "cell_type": "code",
   "execution_count": 3,
   "metadata": {},
   "outputs": [
    {
     "name": "stdout",
     "output_type": "stream",
     "text": [
      "A escola como maior gasto per capita: Escola A\n",
      "A escola com o menor gasto per capita: Escola F\n"
     ]
    }
   ],
   "source": [
    "df[\"Gasto_Per_Capita\"] = df[\"Orcamento_Anual\"] / df[\"Numero_Alunos\"]\n",
    "escola_maior_gasto = df.loc[df[\"Gasto_Per_Capita\"].idxmax(), \"Nome_Escola\"]\n",
    "escola_menor_gasto = df.loc[df[\"Gasto_Per_Capita\"].idxmin(), \"Nome_Escola\"]\n",
    "print(\"A escola como maior gasto per capita:\", escola_maior_gasto)\n",
    "print(\"A escola com o menor gasto per capita:\", escola_menor_gasto)"
   ]
  },
  {
   "cell_type": "markdown",
   "metadata": {},
   "source": [
    "# Média de alunos por tipo de escola"
   ]
  },
  {
   "cell_type": "code",
   "execution_count": 4,
   "metadata": {},
   "outputs": [
    {
     "name": "stdout",
     "output_type": "stream",
     "text": [
      "Média de alunos por tipo de escola:\n",
      "Tipo_Escola\n",
      "Particular    1524.0\n",
      "Publica       3854.0\n",
      "Name: Numero_Alunos, dtype: float64\n"
     ]
    }
   ],
   "source": [
    "media_alunos_tipo = df.groupby(\"Tipo_Escola\")[\"Numero_Alunos\"].mean().round(0)\n",
    "print(\"Média de alunos por tipo de escola:\")\n",
    "print(media_alunos_tipo)"
   ]
  },
  {
   "cell_type": "markdown",
   "metadata": {},
   "source": [
    " # Escolas com um orçamento anual acima de 1,5 milhão"
   ]
  },
  {
   "cell_type": "code",
   "execution_count": 5,
   "metadata": {},
   "outputs": [
    {
     "name": "stdout",
     "output_type": "stream",
     "text": [
      "Número de escolas com orçamento acima de 1,5 milhão: 7\n"
     ]
    }
   ],
   "source": [
    "escolas_acima_1_5m = (df[\"Orcamento_Anual\"] > 1_500_000).sum()\n",
    "print(\"Número de escolas com orçamento acima de 1,5 milhão:\", escolas_acima_1_5m)"
   ]
  }
 ],
 "metadata": {
  "kernelspec": {
   "display_name": ".venv",
   "language": "python",
   "name": "python3"
  },
  "language_info": {
   "codemirror_mode": {
    "name": "ipython",
    "version": 3
   },
   "file_extension": ".py",
   "mimetype": "text/x-python",
   "name": "python",
   "nbconvert_exporter": "python",
   "pygments_lexer": "ipython3",
   "version": "3.12.9"
  }
 },
 "nbformat": 4,
 "nbformat_minor": 2
}
