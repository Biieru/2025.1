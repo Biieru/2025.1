{
 "cells": [
  {
   "cell_type": "markdown",
   "metadata": {},
   "source": [
    "Complete essa primeira célula com o seu nome e turma.\n",
    "\n",
    "Nome: Gabriel Coelho de Araújo\n",
    "\n",
    "Turma: TADS034"
   ]
  },
  {
   "cell_type": "markdown",
   "metadata": {},
   "source": [
    "O conceito de variáveis em Python é fundamental para quem está começando a aprender a linguagem. Vamos detalhar um pouco mais sobre como as variáveis funcionam em Python, destacando a natureza orientada a objetos da linguagem e o conceito de referência.\n",
    "\n",
    "### Tudo é Objeto\n",
    "Em Python, tudo é objeto. Isso significa que tipos de dados simples, como números e strings, bem como estruturas de dados mais complexas, são tratados como objetos. Cada objeto em Python é uma instância de algum tipo ou classe. Esses objetos possuem identidade (um endereço único na memória), tipo (que define as operações que o objeto suporta) e valor.\n",
    "\n",
    "### Variáveis como Referências\n",
    "Quando você cria uma variável em Python e atribui um valor a ela, o que você está realmente fazendo é criando uma referência a um objeto. As variáveis em Python são como etiquetas que você cola em objetos para identificá-los. Isso é diferente de linguagens de programação de baixo nível, onde uma variável armazena diretamente o valor."
   ]
  },
  {
   "cell_type": "code",
   "execution_count": 2,
   "metadata": {},
   "outputs": [
    {
     "name": "stdout",
     "output_type": "stream",
     "text": [
      "x vale  1\n",
      "y vale  2\n"
     ]
    }
   ],
   "source": [
    "x = 1\n",
    "y = 2\n",
    "\n",
    "print(\"x vale \",x)\n",
    "print(\"y vale \",y)"
   ]
  },
  {
   "cell_type": "markdown",
   "metadata": {},
   "source": [
    "### Tipagem Dinâmica:\n",
    "\n",
    "Em Python, não é necessário declarar o tipo de uma variável quando ela é criada. O interpretador Python automaticamente detecta o tipo de dado da variável com base no valor que lhe é atribuído. Isso é conhecido como tipagem dinâmica."
   ]
  },
  {
   "cell_type": "code",
   "execution_count": null,
   "metadata": {},
   "outputs": [],
   "source": [
    "print(\"x é uma variável do tipo: \", type(x))\n",
    "print(\"y é uma variável do tipo: \", type(y))"
   ]
  },
  {
   "cell_type": "code",
   "execution_count": 3,
   "metadata": {},
   "outputs": [
    {
     "name": "stdout",
     "output_type": "stream",
     "text": [
      "3\n"
     ]
    }
   ],
   "source": [
    "x = 1\n",
    "y = 2\n",
    "print(x + y)"
   ]
  },
  {
   "cell_type": "markdown",
   "metadata": {},
   "source": [
    "Perceba que trocamos o tipo de variável sem nenhum prejuízo.\n",
    "\n",
    "#### Vantagens:\n",
    "\n",
    "- Flexibilidade: Os programadores podem escrever código mais rápido e com menos linhas, uma vez que não é necessário declarar tipos de dados explicitamente.\n",
    "- Facilidade de Uso: A tipagem dinâmica torna Python uma linguagem muito acessível para iniciantes, pois eles podem começar a programar sem a necessidade de entender sistemas de tipos complexos.\n",
    "- Código mais legível e limpo: Ao eliminar a necessidade de declarações de tipo explícitas, o código tende a ser mais conciso e focado na lógica do programa em vez da gestão de tipos.\n",
    "\n",
    "#### Desvantagens:\n",
    "\n",
    "- Erros em Tempo de Execução: Erros relacionados a tipos de dados podem não ser detectados até o programa ser executado. Isso pode levar a bugs que são mais difíceis de rastrear e corrigir.\n",
    "- Desempenho: A verificação de tipos em tempo de execução pode tornar a execução do programa mais lenta em comparação com linguagens estaticamente tipadas, onde a compatibilidade de tipos é determinada em tempo de compilação.\n",
    "\n",
    "**Atenção:** Apesar do Python ser dinamicamente tipado, isso não significa que o interpretador realiza conversões automáticas.  Por exemplo, tentar concatenar uma string e um número diretamente resultará em um erro, em vez de converter silenciosamente o número em uma string."
   ]
  },
  {
   "cell_type": "code",
   "execution_count": 4,
   "metadata": {},
   "outputs": [
    {
     "data": {
      "text/plain": [
       "4"
      ]
     },
     "execution_count": 4,
     "metadata": {},
     "output_type": "execute_result"
    }
   ],
   "source": [
    "x + 3"
   ]
  },
  {
   "cell_type": "markdown",
   "metadata": {},
   "source": [
    "## Inteiros"
   ]
  },
  {
   "cell_type": "code",
   "execution_count": 13,
   "metadata": {},
   "outputs": [
    {
     "name": "stdout",
     "output_type": "stream",
     "text": [
      "3\n"
     ]
    }
   ],
   "source": [
    "x = 1 #Reconhecendo apenas a primeira casa decimal\n",
    "y = 2\n",
    "print(x + y)"
   ]
  },
  {
   "cell_type": "markdown",
   "metadata": {},
   "source": [
    "## Float"
   ]
  },
  {
   "cell_type": "code",
   "execution_count": 12,
   "metadata": {},
   "outputs": [
    {
     "name": "stdout",
     "output_type": "stream",
     "text": [
      "3\n"
     ]
    }
   ],
   "source": [
    "X = 3.5 #Adicionando as casas decimais\n",
    "Y = 2.1\n",
    "print(x + y)"
   ]
  },
  {
   "cell_type": "markdown",
   "metadata": {},
   "source": [
    "## Bool"
   ]
  },
  {
   "cell_type": "code",
   "execution_count": 20,
   "metadata": {},
   "outputs": [
    {
     "name": "stdout",
     "output_type": "stream",
     "text": [
      "True\n",
      "False\n"
     ]
    }
   ],
   "source": [
    "x = 1 #Até onde eu entendi bool é puramente comparativo\n",
    "Y = 2\n",
    "print(X > Y)  \n",
    "print(X < Y) \n"
   ]
  },
  {
   "cell_type": "markdown",
   "metadata": {},
   "source": [
    "## None Type"
   ]
  },
  {
   "cell_type": "code",
   "execution_count": null,
   "metadata": {},
   "outputs": [
    {
     "name": "stdout",
     "output_type": "stream",
     "text": [
      "None\n"
     ]
    }
   ],
   "source": [
    "\n",
    "nada = None #sem valor definido ou com placeholder\n",
    "print(nada) #esse eu pesquisei porque realmente n sabia, mas é bem intuitivo\n"
   ]
  },
  {
   "cell_type": "markdown",
   "metadata": {},
   "source": [
    "## String"
   ]
  },
  {
   "cell_type": "code",
   "execution_count": null,
   "metadata": {},
   "outputs": [
    {
     "name": "stdout",
     "output_type": "stream",
     "text": [
      "Bel Coleho\n"
     ]
    }
   ],
   "source": [
    "nome = \"Bel\" #String para letras/nomes/frases/texto/etc\n",
    "sobrenome = 'Coleho'\n",
    "print(nome + \" \" + sobrenome)"
   ]
  },
  {
   "cell_type": "code",
   "execution_count": 10,
   "metadata": {},
   "outputs": [
    {
     "ename": "SyntaxError",
     "evalue": "invalid syntax (3099279661.py, line 4)",
     "output_type": "error",
     "traceback": [
      "\u001b[1;36m  Cell \u001b[1;32mIn[10], line 4\u001b[1;36m\u001b[0m\n\u001b[1;33m    print (\"Nome: %s, Idade: %s\" % (, ))\u001b[0m\n\u001b[1;37m                                    ^\u001b[0m\n\u001b[1;31mSyntaxError\u001b[0m\u001b[1;31m:\u001b[0m invalid syntax\n"
     ]
    }
   ],
   "source": [
    "nome = \"\"\n",
    "idade = \"\"\n",
    "\n",
    "print (\"Nome: %s, Idade: %s\" % (, ))\n",
    "print (\"Meu nome comeca com a letra \", [0])\n",
    "print (\"Meu nome em caixa alta  \", )\n",
    "print (\"Meu primeiro nome é \", [:])"
   ]
  },
  {
   "cell_type": "markdown",
   "metadata": {},
   "source": [
    "Podemos fazer conversões para resolver os eventuais problemas com tipagem:"
   ]
  },
  {
   "cell_type": "code",
   "execution_count": 23,
   "metadata": {},
   "outputs": [
    {
     "name": "stdout",
     "output_type": "stream",
     "text": [
      "Nome: Bel, Idade: 25\n",
      "Meu nome começa com a letra  B\n",
      "Meu primeiro nome é  Bel\n"
     ]
    }
   ],
   "source": [
    "\n",
    "#1. Vamos definir as variáveis, ou seja, não deixar apenas \"\"\n",
    "nome = \"Bel\"\n",
    "idade = 25 #Sem aspas pois é um numero inteiro, diferente de string que necessita de aspas (como acima)\n",
    "\n",
    "#2. Agora que tenho a variável preenchida, quando eu chamar ela com %s, ela finalmente vai ser chamada\n",
    "print(f\"Nome: {nome}, Idade: {idade}\") #Além de que não tinha nada entre o (, ), agora tem\n",
    "#Cami também ensinou para a gente usar o F, para f-strings por ser a forma mais \"legível\"\n",
    "#Mas se for seguir a lógica que aprendemos com Ameliara em C, seria algo como print(\"Nome: %s, Idade: %s\" % (nome, str(idade)))\n",
    "#Eu realmente não sei qual utilizar mas como ela me ensinou com o F, pus com o F\n",
    "\n",
    "#3. Nesse caso só faltou dizer qual era a variável atribuída, no caso, o nome\n",
    "print(\"Meu nome começa com a letra \", nome[0])  \n",
    "\n",
    "#4. Como no 3, também só faltou por a variável nome\n",
    "print(\"Meu primeiro nome é \", nome[:])"
   ]
  },
  {
   "cell_type": "code",
   "execution_count": null,
   "metadata": {},
   "outputs": [
    {
     "name": "stdout",
     "output_type": "stream",
     "text": [
      "Nome: Bel, Idade: 25\n",
      "Meu nome começa com a letra  B\n",
      "Meu primeiro nome é  Bel\n"
     ]
    }
   ],
   "source": [
    "#Sem anotações\n",
    "nome = \"Bel\" \n",
    "idade = 25\n",
    "print(f\"Nome: {nome}, Idade: {idade}\")\n",
    "print(\"Meu nome começa com a letra \", nome[0])  \n",
    "print(\"Meu primeiro nome é \", nome[:])"
   ]
  }
 ],
 "metadata": {
  "kernelspec": {
   "display_name": ".venv",
   "language": "python",
   "name": "python3"
  },
  "language_info": {
   "codemirror_mode": {
    "name": "ipython",
    "version": 3
   },
   "file_extension": ".py",
   "mimetype": "text/x-python",
   "name": "python",
   "nbconvert_exporter": "python",
   "pygments_lexer": "ipython3",
   "version": "3.12.9"
  }
 },
 "nbformat": 4,
 "nbformat_minor": 2
}
